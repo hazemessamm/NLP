{
 "cells": [
  {
   "cell_type": "markdown",
   "metadata": {},
   "source": [
    "---\n",
    "\n",
    "_You are currently looking at **version 1.1** of this notebook. To download notebooks and datafiles, as well as get help on Jupyter notebooks in the Coursera platform, visit the [Jupyter Notebook FAQ](https://www.coursera.org/learn/python-text-mining/resources/d9pwm) course resource._\n",
    "\n",
    "---"
   ]
  },
  {
   "cell_type": "markdown",
   "metadata": {},
   "source": [
    "# Assignment 3\n",
    "\n",
    "In this assignment you will explore text message data and create models to predict if a message is spam or not. "
   ]
  },
  {
   "cell_type": "code",
   "execution_count": null,
   "metadata": {},
   "outputs": [],
   "source": [
    "import pandas as pd\n",
    "import numpy as np\n",
    "\n",
    "spam_data = pd.read_csv('spam.csv')\n",
    "\n",
    "spam_data['target'] = np.where(spam_data['target']=='spam',1,0)\n",
    "spam_data.head(10)"
   ]
  },
  {
   "cell_type": "code",
   "execution_count": 2,
   "metadata": {
    "collapsed": true
   },
   "outputs": [],
   "source": [
    "from sklearn.model_selection import train_test_split\n",
    "\n",
    "\n",
    "X_train, X_test, y_train, y_test = train_test_split(spam_data['text'], \n",
    "                                                    spam_data['target'], \n",
    "                                                    random_state=0)"
   ]
  },
  {
   "cell_type": "markdown",
   "metadata": {},
   "source": [
    "### Question 1\n",
    "What percentage of the documents in `spam_data` are spam?\n",
    "\n",
    "*This function should return a float, the percent value (i.e. $ratio * 100$).*"
   ]
  },
  {
   "cell_type": "code",
   "execution_count": 3,
   "metadata": {
    "collapsed": true
   },
   "outputs": [],
   "source": [
    "def answer_one():\n",
    "    \n",
    "    \n",
    "    \n",
    "    return ((spam_data[spam_data['target'] == 1].count()[0] / spam_data.count()) * 100)[0]"
   ]
  },
  {
   "cell_type": "code",
   "execution_count": 4,
   "metadata": {},
   "outputs": [
    {
     "data": {
      "text/plain": [
       "13.406317300789663"
      ]
     },
     "execution_count": 4,
     "metadata": {},
     "output_type": "execute_result"
    }
   ],
   "source": [
    "answer_one()"
   ]
  },
  {
   "cell_type": "markdown",
   "metadata": {},
   "source": [
    "### Question 2\n",
    "\n",
    "Fit the training data `X_train` using a Count Vectorizer with default parameters.\n",
    "\n",
    "What is the longest token in the vocabulary?\n",
    "\n",
    "*This function should return a string.*"
   ]
  },
  {
   "cell_type": "code",
   "execution_count": 5,
   "metadata": {
    "collapsed": true
   },
   "outputs": [],
   "source": [
    "from sklearn.feature_extraction.text import CountVectorizer\n",
    "\n",
    "def answer_two():\n",
    "    vect = CountVectorizer().fit(X_train)\n",
    "    max_value = max([len(word) for word in vect.get_feature_names()])\n",
    "    return [word for word in vect.get_feature_names() if len(word) == max_value][0]\n",
    "    "
   ]
  },
  {
   "cell_type": "code",
   "execution_count": 6,
   "metadata": {},
   "outputs": [
    {
     "data": {
      "text/plain": [
       "'com1win150ppmx3age16subscription'"
      ]
     },
     "execution_count": 6,
     "metadata": {},
     "output_type": "execute_result"
    }
   ],
   "source": [
    "answer_two()"
   ]
  },
  {
   "cell_type": "markdown",
   "metadata": {},
   "source": [
    "### Question 3\n",
    "\n",
    "Fit and transform the training data `X_train` using a Count Vectorizer with default parameters.\n",
    "\n",
    "Next, fit a fit a multinomial Naive Bayes classifier model with smoothing `alpha=0.1`. Find the area under the curve (AUC) score using the transformed test data.\n",
    "\n",
    "*This function should return the AUC score as a float.*"
   ]
  },
  {
   "cell_type": "code",
   "execution_count": 7,
   "metadata": {
    "collapsed": true
   },
   "outputs": [],
   "source": [
    "from sklearn.naive_bayes import MultinomialNB\n",
    "from sklearn.metrics import roc_auc_score\n",
    "\n",
    "def answer_three():\n",
    "    vect = CountVectorizer().fit(X_train)\n",
    "    x_train_vectorized = vect.transform(X_train)\n",
    "    classifier = MultinomialNB(alpha=0.1).fit(x_train_vectorized, y_train)\n",
    "    \n",
    "    return roc_auc_score(y_test, classifier.predict(vect.transform(X_test)))"
   ]
  },
  {
   "cell_type": "code",
   "execution_count": 8,
   "metadata": {},
   "outputs": [
    {
     "data": {
      "text/plain": [
       "0.97208121827411165"
      ]
     },
     "execution_count": 8,
     "metadata": {},
     "output_type": "execute_result"
    }
   ],
   "source": [
    "answer_three()"
   ]
  },
  {
   "cell_type": "markdown",
   "metadata": {},
   "source": [
    "### Question 4\n",
    "\n",
    "Fit and transform the training data `X_train` using a Tfidf Vectorizer with default parameters.\n",
    "\n",
    "What 20 features have the smallest tf-idf and what 20 have the largest tf-idf?\n",
    "\n",
    "Put these features in a two series where each series is sorted by tf-idf value and then alphabetically by feature name. The index of the series should be the feature name, and the data should be the tf-idf.\n",
    "\n",
    "The series of 20 features with smallest tf-idfs should be sorted smallest tfidf first, the list of 20 features with largest tf-idfs should be sorted largest first. \n",
    "\n",
    "*This function should return a tuple of two series\n",
    "`(smallest tf-idfs series, largest tf-idfs series)`.*"
   ]
  },
  {
   "cell_type": "code",
   "execution_count": 11,
   "metadata": {
    "collapsed": true
   },
   "outputs": [],
   "source": [
    "from sklearn.feature_extraction.text import TfidfVectorizer\n",
    "\n",
    "def answer_four():\n",
    "    vect = TfidfVectorizer().fit(X_train)\n",
    "    x_vect = vect.transform(X_train)\n",
    "    max_tf = x_vect.max(0).toarray()[0]\n",
    "    max_tf_sorted = np.argsort(max_tf)\n",
    "    max_tf = max_tf[max_tf_sorted]\n",
    "    feature_names = np.array(vect.get_feature_names())\n",
    "    largest_tfs = feature_names[max_tf_sorted[-20:]]\n",
    "    smallest_tfs = feature_names[max_tf_sorted[:20]]\n",
    "    smallest_tf_series = pd.Series(max_tf[-20:][::-1], index=smallest_tfs[-20:][::-1])\n",
    "    largest_tf_series = pd.Series(max_tf[-20:][::-1], index = largest_tfs[-20:][::-1])\n",
    "    return smallest_tf_series, largest_tf_series\n",
    "    \n",
    "    "
   ]
  },
  {
   "cell_type": "code",
   "execution_count": 12,
   "metadata": {},
   "outputs": [
    {
     "data": {
      "text/plain": [
       "(mornings        1.000000\n",
       " diwali          1.000000\n",
       " venaam          1.000000\n",
       " pudunga         1.000000\n",
       " organizer       1.000000\n",
       " psychologist    1.000000\n",
       " stylist         1.000000\n",
       " courageous      1.000000\n",
       " chef            1.000000\n",
       " determined      1.000000\n",
       " pest            1.000000\n",
       " psychiatrist    1.000000\n",
       " exterminator    1.000000\n",
       " athletic        1.000000\n",
       " listener        1.000000\n",
       " companion       1.000000\n",
       " dependable      1.000000\n",
       " aaniye          1.000000\n",
       " healer          0.980166\n",
       " sympathetic     0.932702\n",
       " dtype: float64, 146tf150p    1.000000\n",
       " havent       1.000000\n",
       " home         1.000000\n",
       " okie         1.000000\n",
       " thanx        1.000000\n",
       " er           1.000000\n",
       " anything     1.000000\n",
       " lei          1.000000\n",
       " nite         1.000000\n",
       " yup          1.000000\n",
       " thank        1.000000\n",
       " ok           1.000000\n",
       " where        1.000000\n",
       " beerage      1.000000\n",
       " anytime      1.000000\n",
       " too          1.000000\n",
       " done         1.000000\n",
       " 645          1.000000\n",
       " tick         0.980166\n",
       " blank        0.932702\n",
       " dtype: float64)"
      ]
     },
     "execution_count": 12,
     "metadata": {},
     "output_type": "execute_result"
    }
   ],
   "source": [
    "answer_four()"
   ]
  },
  {
   "cell_type": "markdown",
   "metadata": {},
   "source": [
    "### Question 5\n",
    "\n",
    "Fit and transform the training data `X_train` using a Tfidf Vectorizer ignoring terms that have a document frequency strictly lower than **3**.\n",
    "\n",
    "Then fit a multinomial Naive Bayes classifier model with smoothing `alpha=0.1` and compute the area under the curve (AUC) score using the transformed test data.\n",
    "\n",
    "*This function should return the AUC score as a float.*"
   ]
  },
  {
   "cell_type": "code",
   "execution_count": 13,
   "metadata": {
    "collapsed": true
   },
   "outputs": [],
   "source": [
    "def answer_five():\n",
    "    \n",
    "    vect = TfidfVectorizer(min_df = 3).fit(X_train)\n",
    "    x_vect = vect.transform(X_train)\n",
    "    classifier = MultinomialNB(alpha=0.1).fit(x_vect, y_train)\n",
    "    return roc_auc_score(y_test, classifier.predict(vect.transform(X_test)))\n",
    "    "
   ]
  },
  {
   "cell_type": "code",
   "execution_count": 14,
   "metadata": {},
   "outputs": [
    {
     "data": {
      "text/plain": [
       "0.94162436548223349"
      ]
     },
     "execution_count": 14,
     "metadata": {},
     "output_type": "execute_result"
    }
   ],
   "source": [
    "answer_five()"
   ]
  },
  {
   "cell_type": "markdown",
   "metadata": {},
   "source": [
    "### Question 6\n",
    "\n",
    "What is the average length of documents (number of characters) for not spam and spam documents?\n",
    "\n",
    "*This function should return a tuple (average length not spam, average length spam).*"
   ]
  },
  {
   "cell_type": "code",
   "execution_count": 15,
   "metadata": {
    "collapsed": true
   },
   "outputs": [],
   "source": [
    "def answer_six():\n",
    "    \n",
    "    spam_text = spam_data[spam_data.target == 1].text\n",
    "    non_spam_text = spam_data[spam_data.target == 0].text\n",
    "    len_spam_text = [len(t) for t in spam_text]\n",
    "    len_non_spam_text = [len(t) for t in non_spam_text]\n",
    "    return np.mean(len_non_spam_text), np.mean(len_spam_text)"
   ]
  },
  {
   "cell_type": "code",
   "execution_count": 16,
   "metadata": {},
   "outputs": [
    {
     "data": {
      "text/plain": [
       "(71.023626943005183, 138.8661311914324)"
      ]
     },
     "execution_count": 16,
     "metadata": {},
     "output_type": "execute_result"
    }
   ],
   "source": [
    "answer_six()"
   ]
  },
  {
   "cell_type": "markdown",
   "metadata": {},
   "source": [
    "<br>\n",
    "<br>\n",
    "The following function has been provided to help you combine new features into the training data:"
   ]
  },
  {
   "cell_type": "code",
   "execution_count": 17,
   "metadata": {
    "collapsed": true
   },
   "outputs": [],
   "source": [
    "def add_feature(X, feature_to_add):\n",
    "    \"\"\"\n",
    "    Returns sparse feature matrix with added feature.\n",
    "    feature_to_add can also be a list of features.\n",
    "    \"\"\"\n",
    "    from scipy.sparse import csr_matrix, hstack\n",
    "    return hstack([X, csr_matrix(feature_to_add).T], 'csr')"
   ]
  },
  {
   "cell_type": "markdown",
   "metadata": {},
   "source": [
    "### Question 7\n",
    "\n",
    "Fit and transform the training data X_train using a Tfidf Vectorizer ignoring terms that have a document frequency strictly lower than **5**.\n",
    "\n",
    "Using this document-term matrix and an additional feature, **the length of document (number of characters)**, fit a Support Vector Classification model with regularization `C=10000`. Then compute the area under the curve (AUC) score using the transformed test data.\n",
    "\n",
    "*This function should return the AUC score as a float.*"
   ]
  },
  {
   "cell_type": "code",
   "execution_count": 18,
   "metadata": {
    "collapsed": true
   },
   "outputs": [],
   "source": [
    "from sklearn.svm import SVC\n",
    "\n",
    "def answer_seven():\n",
    "    vect = TfidfVectorizer(min_df=5).fit(X_train)\n",
    "    x_train_vect = vect.transform(X_train)\n",
    "    x_test_vect = vect.transform(X_test)\n",
    "    \n",
    "    len_x_train = [len(t) for t in X_train]\n",
    "    len_x_test = [len(t) for t in X_test]\n",
    "    \n",
    "    x_train_vect = add_feature(x_train_vect, len_x_train)\n",
    "    x_test_vect = add_feature(x_test_vect, len_x_test)\n",
    "    \n",
    "    classifier = SVC(C=10000).fit(x_train_vect, y_train)\n",
    "    return roc_auc_score(y_test, classifier.predict(x_test_vect))\n",
    "    "
   ]
  },
  {
   "cell_type": "code",
   "execution_count": 19,
   "metadata": {},
   "outputs": [
    {
     "data": {
      "text/plain": [
       "0.95813668234215565"
      ]
     },
     "execution_count": 19,
     "metadata": {},
     "output_type": "execute_result"
    }
   ],
   "source": [
    "answer_seven()"
   ]
  },
  {
   "cell_type": "markdown",
   "metadata": {},
   "source": [
    "### Question 8\n",
    "\n",
    "What is the average number of digits per document for not spam and spam documents?\n",
    "\n",
    "*This function should return a tuple (average # digits not spam, average # digits spam).*"
   ]
  },
  {
   "cell_type": "code",
   "execution_count": 20,
   "metadata": {
    "collapsed": true
   },
   "outputs": [],
   "source": [
    "def answer_eight():\n",
    "    digits_non_spam = [sum(c.isnumeric() for c in t) for t in spam_data[spam_data.target == 0].text]\n",
    "    digits_spam = [sum(c.isnumeric() for c in t) for t in spam_data[spam_data.target == 1].text]\n",
    "    return np.mean(digits_non_spam), np.mean(digits_spam)"
   ]
  },
  {
   "cell_type": "code",
   "execution_count": 21,
   "metadata": {},
   "outputs": [
    {
     "data": {
      "text/plain": [
       "(0.29927461139896372, 15.76037483266399)"
      ]
     },
     "execution_count": 21,
     "metadata": {},
     "output_type": "execute_result"
    }
   ],
   "source": [
    "answer_eight()"
   ]
  },
  {
   "cell_type": "markdown",
   "metadata": {},
   "source": [
    "### Question 9\n",
    "\n",
    "Fit and transform the training data `X_train` using a Tfidf Vectorizer ignoring terms that have a document frequency strictly lower than **5** and using **word n-grams from n=1 to n=3** (unigrams, bigrams, and trigrams).\n",
    "\n",
    "Using this document-term matrix and the following additional features:\n",
    "* the length of document (number of characters)\n",
    "* **number of digits per document**\n",
    "\n",
    "fit a Logistic Regression model with regularization `C=100`. Then compute the area under the curve (AUC) score using the transformed test data.\n",
    "\n",
    "*This function should return the AUC score as a float.*"
   ]
  },
  {
   "cell_type": "code",
   "execution_count": 22,
   "metadata": {
    "collapsed": true
   },
   "outputs": [],
   "source": [
    "from sklearn.linear_model import LogisticRegression\n",
    "\n",
    "def answer_nine():\n",
    "    vect = TfidfVectorizer(min_df = 5, ngram_range=(1, 3)).fit(X_train)\n",
    "    x_train_vect = vect.transform(X_train)\n",
    "    x_test_vect = vect.transform(X_test)\n",
    "    \n",
    "    len_x_train = [len(t) for t in X_train]\n",
    "    len_x_test = [len(t) for t in X_test]\n",
    "    \n",
    "    digits_train = [sum(c.isnumeric() for c in t) for t in X_train]\n",
    "    digits_test = [sum(c.isnumeric() for c in t) for t in X_test]\n",
    "    \n",
    "    #x_train_vect = add_feature(x_train_vect, len_x_train)\n",
    "    x_train_vect = add_feature(x_train_vect, digits_train)\n",
    "    \n",
    "    #x_test_vect = add_feature(x_test_vect, len_x_test)\n",
    "    x_test_vect = add_feature(x_test_vect, digits_test)\n",
    "    \n",
    "    classifier = LogisticRegression(C=100)\n",
    "    classifier.fit(x_train_vect, y_train)\n",
    "    \n",
    "    return roc_auc_score(y_test, classifier.predict(x_test_vect))\n",
    "    \n",
    "    "
   ]
  },
  {
   "cell_type": "code",
   "execution_count": 23,
   "metadata": {},
   "outputs": [
    {
     "data": {
      "text/plain": [
       "0.96787090640544626"
      ]
     },
     "execution_count": 23,
     "metadata": {},
     "output_type": "execute_result"
    }
   ],
   "source": [
    "answer_nine()"
   ]
  },
  {
   "cell_type": "markdown",
   "metadata": {},
   "source": [
    "### Question 10\n",
    "\n",
    "What is the average number of non-word characters (anything other than a letter, digit or underscore) per document for not spam and spam documents?\n",
    "\n",
    "*Hint: Use `\\w` and `\\W` character classes*\n",
    "\n",
    "*This function should return a tuple (average # non-word characters not spam, average # non-word characters spam).*"
   ]
  },
  {
   "cell_type": "code",
   "execution_count": 24,
   "metadata": {
    "collapsed": true
   },
   "outputs": [],
   "source": [
    "import re\n",
    "def answer_ten():\n",
    "    return np.mean(spam_data[spam_data.target == 0].text.str.count(r'\\W')), np.mean(spam_data[spam_data.target == 1].text.str.count(r'\\W'))\n",
    "    \n",
    "    \n",
    "    \n",
    "    "
   ]
  },
  {
   "cell_type": "code",
   "execution_count": 25,
   "metadata": {},
   "outputs": [
    {
     "data": {
      "text/plain": [
       "(17.291813471502589, 29.041499330655956)"
      ]
     },
     "execution_count": 25,
     "metadata": {},
     "output_type": "execute_result"
    }
   ],
   "source": [
    "answer_ten()"
   ]
  },
  {
   "cell_type": "markdown",
   "metadata": {},
   "source": [
    "### Question 11\n",
    "\n",
    "Fit and transform the training data X_train using a Count Vectorizer ignoring terms that have a document frequency strictly lower than **5** and using **character n-grams from n=2 to n=5.**\n",
    "\n",
    "To tell Count Vectorizer to use character n-grams pass in `analyzer='char_wb'` which creates character n-grams only from text inside word boundaries. This should make the model more robust to spelling mistakes.\n",
    "\n",
    "Using this document-term matrix and the following additional features:\n",
    "* the length of document (number of characters)\n",
    "* number of digits per document\n",
    "* **number of non-word characters (anything other than a letter, digit or underscore.)**\n",
    "\n",
    "fit a Logistic Regression model with regularization C=100. Then compute the area under the curve (AUC) score using the transformed test data.\n",
    "\n",
    "Also **find the 10 smallest and 10 largest coefficients from the model** and return them along with the AUC score in a tuple.\n",
    "\n",
    "The list of 10 smallest coefficients should be sorted smallest first, the list of 10 largest coefficients should be sorted largest first.\n",
    "\n",
    "The three features that were added to the document term matrix should have the following names should they appear in the list of coefficients:\n",
    "['length_of_doc', 'digit_count', 'non_word_char_count']\n",
    "\n",
    "*This function should return a tuple `(AUC score as a float, smallest coefs list, largest coefs list)`.*"
   ]
  },
  {
   "cell_type": "code",
   "execution_count": 26,
   "metadata": {
    "collapsed": true
   },
   "outputs": [],
   "source": [
    "def answer_eleven():\n",
    "    special_chars_train = X_train.str.count('\\W')\n",
    "    special_chars_test = X_test.str.count('\\W')\n",
    "    \n",
    "    len_x_train = [len(t) for t in X_train]\n",
    "    len_x_test = [len(t) for t in X_test]\n",
    "    \n",
    "    digits_train = [sum(c.isnumeric() for c in t) for t in X_train]\n",
    "    digits_test = [sum(c.isnumeric() for c in t) for t in X_test]\n",
    "    \n",
    "    vect = CountVectorizer(min_df = 5, ngram_range=(2,5), analyzer='char_wb').fit(X_train)\n",
    "    x_train_vect = vect.transform(X_train)\n",
    "    x_test_vect = vect.transform(X_test)\n",
    "    \n",
    "    x_train_vect = add_feature(x_train_vect, [len_x_train, digits_train, special_chars_train])\n",
    "    x_test_vect = add_feature(x_test_vect, [len_x_test, digits_test, special_chars_test])\n",
    "    \n",
    "    model = LogisticRegression(C=100).fit(x_train_vect, y_train)\n",
    "    \n",
    "    coefs_sorted = model.coef_[0].argsort()\n",
    "    \n",
    "    feature_names = np.array(vect.get_feature_names() + ['length_of_doc', 'digit_count', 'non_word_char_count'])\n",
    "    \n",
    "    smallest_coefs = feature_names[coefs_sorted[:10]]\n",
    "    largest_coefs = feature_names[coefs_sorted[:-11:-1]]\n",
    "    \n",
    "    auc_result = roc_auc_score(y_test, model.predict(x_test_vect))\n",
    "    \n",
    "    return auc_result, smallest_coefs, largest_coefs\n",
    "    "
   ]
  },
  {
   "cell_type": "code",
   "execution_count": 27,
   "metadata": {},
   "outputs": [
    {
     "data": {
      "text/plain": [
       "(0.97885931107074342,\n",
       " array(['. ', '..', '? ', ' i', ' y', ' go', ':)', ' h', 'go', ' m'], \n",
       "       dtype='<U19'),\n",
       " array(['digit_count', 'ne', 'ia', 'co', 'xt', ' ch', 'mob', ' x', 'ww',\n",
       "        'ar'], \n",
       "       dtype='<U19'))"
      ]
     },
     "execution_count": 27,
     "metadata": {},
     "output_type": "execute_result"
    }
   ],
   "source": [
    "answer_eleven()"
   ]
  },
  {
   "cell_type": "code",
   "execution_count": null,
   "metadata": {
    "collapsed": true
   },
   "outputs": [],
   "source": []
  },
  {
   "cell_type": "code",
   "execution_count": null,
   "metadata": {
    "collapsed": true
   },
   "outputs": [],
   "source": []
  },
  {
   "cell_type": "code",
   "execution_count": null,
   "metadata": {
    "collapsed": true
   },
   "outputs": [],
   "source": []
  }
 ],
 "metadata": {
  "coursera": {
   "course_slug": "python-text-mining",
   "graded_item_id": "Pn19K",
   "launcher_item_id": "y1juS",
   "part_id": "ctlgo"
  },
  "kernelspec": {
   "display_name": "Python 3",
   "language": "python",
   "name": "python3"
  },
  "language_info": {
   "codemirror_mode": {
    "name": "ipython",
    "version": 3
   },
   "file_extension": ".py",
   "mimetype": "text/x-python",
   "name": "python",
   "nbconvert_exporter": "python",
   "pygments_lexer": "ipython3",
   "version": "3.7.7"
  }
 },
 "nbformat": 4,
 "nbformat_minor": 2
}
